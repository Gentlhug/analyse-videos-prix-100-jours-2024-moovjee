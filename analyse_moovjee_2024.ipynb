{
 "cells": [
  {
   "cell_type": "markdown",
   "id": "98deb8fb",
   "metadata": {},
   "source": [
    "# Analyse des vidéos YouTube du prix 100 jours 2024 du Moovjee"
   ]
  },
  {
   "cell_type": "markdown",
   "id": "cb4b7d37",
   "metadata": {},
   "source": [
    "**Objectif :** Le but étant de créer un Top 15 des vidéos qui ont reçu le plus de like."
   ]
  },
  {
   "cell_type": "markdown",
   "id": "fa2e659a",
   "metadata": {},
   "source": [
    "**Plan :**\n",
    "- Scrapper les données des vidéos YouTube : Récupérer le titre, nb de vues et de like\n",
    "- Enregistrer ces données dans un Dataframe à l'aide de la librairie Pandas\n",
    "- Analyser les données"
   ]
  },
  {
   "cell_type": "markdown",
   "id": "3354cf08",
   "metadata": {},
   "source": [
    "### 1. On importe les librairies"
   ]
  },
  {
   "cell_type": "code",
   "execution_count": 3,
   "id": "c88462ad",
   "metadata": {},
   "outputs": [],
   "source": [
    "from selenium import webdriver\n",
    "from selenium.webdriver.common.by import By\n",
    "import time\n",
    "import pandas as pd"
   ]
  },
  {
   "cell_type": "markdown",
   "id": "6eea1fa2",
   "metadata": {},
   "source": [
    "### 2. On crée nos fonctions permettant de formater certaines données"
   ]
  },
  {
   "cell_type": "code",
   "execution_count": 4,
   "id": "653b753f",
   "metadata": {},
   "outputs": [],
   "source": [
    "# On vérifie si notre valeur est de type \"float\" ou non\n",
    "def is_float(a_string):\n",
    "    try:\n",
    "        float(a_string)\n",
    "        return True\n",
    "    except ValueError:\n",
    "        return False\n",
    "\n",
    "# On transforme le format de vues (et like) de YouTube vers un format de nombre (int)\n",
    "def views_to_int(txt):\n",
    "    int_result = txt\n",
    "    int_result = int_result.replace(' vues', '')\n",
    "    if 'k' in int_result and ',' in int_result:\n",
    "        int_result = int_result.replace(',', '').replace(' k', '00')\n",
    "    elif 'k' in int_result and not ',' in int_result:\n",
    "        int_result = int_result.replace(' k', '000')\n",
    "    elif ',' in int_result and not 'k' in int_result:\n",
    "        int_result = int_result.replace(',', '')\n",
    "    return int(int_result)\n",
    "    "
   ]
  },
  {
   "cell_type": "markdown",
   "id": "3e5f1ae1",
   "metadata": {},
   "source": [
    "***Test n°1 :** On teste la fonction \"views_to_int()\" si elle fonctionne comme on le souhaite.*"
   ]
  },
  {
   "cell_type": "code",
   "execution_count": 5,
   "id": "1bfc4e39",
   "metadata": {},
   "outputs": [
    {
     "name": "stdout",
     "output_type": "stream",
     "text": [
      "1095\n",
      "3500\n",
      "1000\n",
      "1000\n",
      "548\n"
     ]
    }
   ],
   "source": [
    "print(views_to_int('1,095 vues'))\n",
    "print(views_to_int('3,5 k vues'))\n",
    "print(views_to_int('1 k vues'))\n",
    "print(views_to_int('1 k'))\n",
    "print(views_to_int('548 vues'))"
   ]
  },
  {
   "cell_type": "markdown",
   "id": "1dc91e68",
   "metadata": {},
   "source": [
    "***Test n°2 :** On teste la fonction \"is_float()\" si elle fonctionne comme on le souhaite*"
   ]
  },
  {
   "cell_type": "code",
   "execution_count": 8,
   "id": "8fa0cc24",
   "metadata": {},
   "outputs": [
    {
     "name": "stdout",
     "output_type": "stream",
     "text": [
      "True\n",
      "True\n",
      "False\n",
      "False\n"
     ]
    }
   ],
   "source": [
    "print(is_float('2'))\n",
    "print(is_float('2.3'))\n",
    "print(is_float('un'))\n",
    "print(is_float('2.3.2'))"
   ]
  },
  {
   "cell_type": "markdown",
   "id": "93a7e59e",
   "metadata": {},
   "source": [
    "### 3. On crée notre bot de scrapping avec Selenium"
   ]
  },
  {
   "cell_type": "markdown",
   "id": "51425c43",
   "metadata": {},
   "source": [
    "#### 3.1. On définit notre driver avec Chrome"
   ]
  },
  {
   "cell_type": "code",
   "execution_count": null,
   "id": "d5beea2b",
   "metadata": {},
   "outputs": [],
   "source": [
    "driver = webdriver.Chrome()"
   ]
  },
  {
   "cell_type": "markdown",
   "id": "8de1bb7d",
   "metadata": {},
   "source": [
    "#### 3.2. On se redirige vers l'url de notre choix"
   ]
  },
  {
   "cell_type": "markdown",
   "id": "2cdb1b24",
   "metadata": {},
   "source": [
    "*En l'occurrence ici, c'est la playlist contenant toutes les vidéos du prix 100 jours 2024*"
   ]
  },
  {
   "cell_type": "code",
   "execution_count": 5,
   "id": "2c751f18",
   "metadata": {},
   "outputs": [],
   "source": [
    "driver.get('https://www.youtube.com/watch?v=0BO-fxIrP9E&list=PLXwku06I04tLbhEZmTm2cUud5QWxBOSx0')"
   ]
  },
  {
   "cell_type": "markdown",
   "id": "44562383",
   "metadata": {},
   "source": [
    "#### 3.3. On enregistre les URLs des vidéos de la playlist"
   ]
  },
  {
   "cell_type": "code",
   "execution_count": 6,
   "id": "0ab3a956",
   "metadata": {},
   "outputs": [
    {
     "name": "stdout",
     "output_type": "stream",
     "text": [
      "['https://www.youtube.com/watch?v=0BO-fxIrP9E&list=PLXwku06I04tLbhEZmTm2cUud5QWxBOSx0&index=1&pp=iAQB', 'https://www.youtube.com/watch?v=54_pxwgtA-0&list=PLXwku06I04tLbhEZmTm2cUud5QWxBOSx0&index=2&pp=iAQB', 'https://www.youtube.com/watch?v=5Ht_aSSuxOE&list=PLXwku06I04tLbhEZmTm2cUud5QWxBOSx0&index=3&pp=iAQB', 'https://www.youtube.com/watch?v=8HkhOLbaIO8&list=PLXwku06I04tLbhEZmTm2cUud5QWxBOSx0&index=4&pp=iAQB', 'https://www.youtube.com/watch?v=FjnRH5nQxRU&list=PLXwku06I04tLbhEZmTm2cUud5QWxBOSx0&index=5&pp=iAQB', 'https://www.youtube.com/watch?v=FpXpEKyU9vU&list=PLXwku06I04tLbhEZmTm2cUud5QWxBOSx0&index=6&pp=iAQB', 'https://www.youtube.com/watch?v=HgZFTPl-VHg&list=PLXwku06I04tLbhEZmTm2cUud5QWxBOSx0&index=7&pp=iAQB', 'https://www.youtube.com/watch?v=HkMuspSv_LU&list=PLXwku06I04tLbhEZmTm2cUud5QWxBOSx0&index=8&pp=iAQB', 'https://www.youtube.com/watch?v=JKp94NMEhPM&list=PLXwku06I04tLbhEZmTm2cUud5QWxBOSx0&index=9&pp=iAQB', 'https://www.youtube.com/watch?v=KdMkKo8jHy8&list=PLXwku06I04tLbhEZmTm2cUud5QWxBOSx0&index=10&pp=iAQB', 'https://www.youtube.com/watch?v=M67YoPmPUio&list=PLXwku06I04tLbhEZmTm2cUud5QWxBOSx0&index=11&pp=iAQB', 'https://www.youtube.com/watch?v=Ny3SUid5BjY&list=PLXwku06I04tLbhEZmTm2cUud5QWxBOSx0&index=12&pp=iAQB', 'https://www.youtube.com/watch?v=PD_dM-o9U80&list=PLXwku06I04tLbhEZmTm2cUud5QWxBOSx0&index=13&pp=iAQB', 'https://www.youtube.com/watch?v=R9UO2kcVIv4&list=PLXwku06I04tLbhEZmTm2cUud5QWxBOSx0&index=14&pp=iAQB', 'https://www.youtube.com/watch?v=TgmZXySEyps&list=PLXwku06I04tLbhEZmTm2cUud5QWxBOSx0&index=15&pp=iAQB', 'https://www.youtube.com/watch?v=Z-PMPabTAI8&list=PLXwku06I04tLbhEZmTm2cUud5QWxBOSx0&index=16&pp=iAQB', 'https://www.youtube.com/watch?v=a5nM8pm6WdU&list=PLXwku06I04tLbhEZmTm2cUud5QWxBOSx0&index=17&pp=iAQB', 'https://www.youtube.com/watch?v=dBQgl1ODfaY&list=PLXwku06I04tLbhEZmTm2cUud5QWxBOSx0&index=18&pp=iAQB', 'https://www.youtube.com/watch?v=k8w-iBVUWOs&list=PLXwku06I04tLbhEZmTm2cUud5QWxBOSx0&index=19&pp=iAQB', 'https://www.youtube.com/watch?v=lT78RQXE-1Y&list=PLXwku06I04tLbhEZmTm2cUud5QWxBOSx0&index=20&pp=iAQB', 'https://www.youtube.com/watch?v=mVW8DCtbmTw&list=PLXwku06I04tLbhEZmTm2cUud5QWxBOSx0&index=21&pp=iAQB', 'https://www.youtube.com/watch?v=prpAcjsETUo&list=PLXwku06I04tLbhEZmTm2cUud5QWxBOSx0&index=22&pp=iAQB', 'https://www.youtube.com/watch?v=rMdIPbpmNlo&list=PLXwku06I04tLbhEZmTm2cUud5QWxBOSx0&index=23&pp=iAQB', 'https://www.youtube.com/watch?v=ri_u16LAKhA&list=PLXwku06I04tLbhEZmTm2cUud5QWxBOSx0&index=24&pp=iAQB', 'https://www.youtube.com/watch?v=sAVWyHjZk4E&list=PLXwku06I04tLbhEZmTm2cUud5QWxBOSx0&index=25&pp=iAQB', 'https://www.youtube.com/watch?v=u-m0C-CCsmE&list=PLXwku06I04tLbhEZmTm2cUud5QWxBOSx0&index=26&pp=iAQB', 'https://www.youtube.com/watch?v=vA2AChMTr44&list=PLXwku06I04tLbhEZmTm2cUud5QWxBOSx0&index=27&pp=iAQB', 'https://www.youtube.com/watch?v=vBM3H0jopAA&list=PLXwku06I04tLbhEZmTm2cUud5QWxBOSx0&index=28&pp=iAQB', 'https://www.youtube.com/watch?v=xMVaDTjQYyA&list=PLXwku06I04tLbhEZmTm2cUud5QWxBOSx0&index=29&pp=iAQB', 'https://www.youtube.com/watch?v=ygPqL7r4-Ao&list=PLXwku06I04tLbhEZmTm2cUud5QWxBOSx0&index=30&pp=iAQB', 'https://www.youtube.com/watch?v=2c2DmZULJ74&list=PLXwku06I04tLbhEZmTm2cUud5QWxBOSx0&index=31&pp=iAQB', 'https://www.youtube.com/watch?v=3FF5YyNn3gc&list=PLXwku06I04tLbhEZmTm2cUud5QWxBOSx0&index=32&pp=iAQB', 'https://www.youtube.com/watch?v=7J5CUyzu-cI&list=PLXwku06I04tLbhEZmTm2cUud5QWxBOSx0&index=33&pp=iAQB', 'https://www.youtube.com/watch?v=8zwV3K9CfbI&list=PLXwku06I04tLbhEZmTm2cUud5QWxBOSx0&index=34&pp=iAQB', 'https://www.youtube.com/watch?v=91uvGyH9LDY&list=PLXwku06I04tLbhEZmTm2cUud5QWxBOSx0&index=35&pp=iAQB', 'https://www.youtube.com/watch?v=9TqCmV2mblw&list=PLXwku06I04tLbhEZmTm2cUud5QWxBOSx0&index=36&pp=iAQB', 'https://www.youtube.com/watch?v=9_WRw0M0luU&list=PLXwku06I04tLbhEZmTm2cUud5QWxBOSx0&index=37&pp=iAQB', 'https://www.youtube.com/watch?v=A0fVkVaIOqI&list=PLXwku06I04tLbhEZmTm2cUud5QWxBOSx0&index=38&pp=iAQB', 'https://www.youtube.com/watch?v=FzIeQ27Hn2E&list=PLXwku06I04tLbhEZmTm2cUud5QWxBOSx0&index=39&pp=iAQB', 'https://www.youtube.com/watch?v=GoId6AVIwv0&list=PLXwku06I04tLbhEZmTm2cUud5QWxBOSx0&index=40&pp=iAQB', 'https://www.youtube.com/watch?v=H15ddjVeB3U&list=PLXwku06I04tLbhEZmTm2cUud5QWxBOSx0&index=41&pp=iAQB', 'https://www.youtube.com/watch?v=HuIAUzKv5w0&list=PLXwku06I04tLbhEZmTm2cUud5QWxBOSx0&index=42&pp=iAQB', 'https://www.youtube.com/watch?v=IkozqWQACM0&list=PLXwku06I04tLbhEZmTm2cUud5QWxBOSx0&index=43&pp=iAQB', 'https://www.youtube.com/watch?v=JAi7wjv6VDY&list=PLXwku06I04tLbhEZmTm2cUud5QWxBOSx0&index=44&pp=iAQB', 'https://www.youtube.com/watch?v=Ky-oNjAwa8A&list=PLXwku06I04tLbhEZmTm2cUud5QWxBOSx0&index=45&pp=iAQB', 'https://www.youtube.com/watch?v=PjwzNueL4iE&list=PLXwku06I04tLbhEZmTm2cUud5QWxBOSx0&index=46&pp=iAQB', 'https://www.youtube.com/watch?v=Q5GSKINCtQk&list=PLXwku06I04tLbhEZmTm2cUud5QWxBOSx0&index=47&pp=iAQB', 'https://www.youtube.com/watch?v=RE3tc0DNwZ8&list=PLXwku06I04tLbhEZmTm2cUud5QWxBOSx0&index=48&pp=iAQB', 'https://www.youtube.com/watch?v=UCdQ0mE95g8&list=PLXwku06I04tLbhEZmTm2cUud5QWxBOSx0&index=49&pp=iAQB', 'https://www.youtube.com/watch?v=WpUEW0t8m_0&list=PLXwku06I04tLbhEZmTm2cUud5QWxBOSx0&index=50&pp=iAQB', 'https://www.youtube.com/watch?v=XXnieLdEzd0&list=PLXwku06I04tLbhEZmTm2cUud5QWxBOSx0&index=51&pp=iAQB', 'https://www.youtube.com/watch?v=cZeeP3kL67k&list=PLXwku06I04tLbhEZmTm2cUud5QWxBOSx0&index=52&pp=iAQB', 'https://www.youtube.com/watch?v=d9TGv5RXnYo&list=PLXwku06I04tLbhEZmTm2cUud5QWxBOSx0&index=53&pp=iAQB', 'https://www.youtube.com/watch?v=gOQpZvD2sgU&list=PLXwku06I04tLbhEZmTm2cUud5QWxBOSx0&index=54&pp=iAQB', 'https://www.youtube.com/watch?v=l1rzyDm5WZo&list=PLXwku06I04tLbhEZmTm2cUud5QWxBOSx0&index=55&pp=iAQB', 'https://www.youtube.com/watch?v=mMLnh2l9Qus&list=PLXwku06I04tLbhEZmTm2cUud5QWxBOSx0&index=56&pp=iAQB', 'https://www.youtube.com/watch?v=njZPXbp5DTA&list=PLXwku06I04tLbhEZmTm2cUud5QWxBOSx0&index=57&pp=iAQB', 'https://www.youtube.com/watch?v=uYgQvkrLmOc&list=PLXwku06I04tLbhEZmTm2cUud5QWxBOSx0&index=58&pp=iAQB', 'https://www.youtube.com/watch?v=ugYT4bYAqOM&list=PLXwku06I04tLbhEZmTm2cUud5QWxBOSx0&index=59&pp=iAQB', 'https://www.youtube.com/watch?v=v8FXF9ylF_M&list=PLXwku06I04tLbhEZmTm2cUud5QWxBOSx0&index=60&pp=iAQB', 'https://www.youtube.com/watch?v=0riXFvuLjyI&list=PLXwku06I04tLbhEZmTm2cUud5QWxBOSx0&index=61&pp=iAQB', 'https://www.youtube.com/watch?v=28qOaD6OAEw&list=PLXwku06I04tLbhEZmTm2cUud5QWxBOSx0&index=62&pp=iAQB', 'https://www.youtube.com/watch?v=3JD1I04elDw&list=PLXwku06I04tLbhEZmTm2cUud5QWxBOSx0&index=63&pp=iAQB', 'https://www.youtube.com/watch?v=5CRFQm9n8qo&list=PLXwku06I04tLbhEZmTm2cUud5QWxBOSx0&index=64&pp=iAQB', 'https://www.youtube.com/watch?v=5ZpBBsX4cSY&list=PLXwku06I04tLbhEZmTm2cUud5QWxBOSx0&index=65&pp=iAQB', 'https://www.youtube.com/watch?v=60vaJgEwDu0&list=PLXwku06I04tLbhEZmTm2cUud5QWxBOSx0&index=66&pp=iAQB', 'https://www.youtube.com/watch?v=CQzcpX6e2GY&list=PLXwku06I04tLbhEZmTm2cUud5QWxBOSx0&index=67&pp=iAQB', 'https://www.youtube.com/watch?v=D9jKrLq2VDY&list=PLXwku06I04tLbhEZmTm2cUud5QWxBOSx0&index=68&pp=iAQB', 'https://www.youtube.com/watch?v=EHySK5T5IqQ&list=PLXwku06I04tLbhEZmTm2cUud5QWxBOSx0&index=69&pp=iAQB', 'https://www.youtube.com/watch?v=EjV1yF7XKQA&list=PLXwku06I04tLbhEZmTm2cUud5QWxBOSx0&index=70&pp=iAQB', 'https://www.youtube.com/watch?v=Hx1McJCvaOY&list=PLXwku06I04tLbhEZmTm2cUud5QWxBOSx0&index=71&pp=iAQB', 'https://www.youtube.com/watch?v=IsBtPXVULf4&list=PLXwku06I04tLbhEZmTm2cUud5QWxBOSx0&index=72&pp=iAQB', 'https://www.youtube.com/watch?v=JDCqQREgQoQ&list=PLXwku06I04tLbhEZmTm2cUud5QWxBOSx0&index=73&pp=iAQB', 'https://www.youtube.com/watch?v=Jfy53qPfrTk&list=PLXwku06I04tLbhEZmTm2cUud5QWxBOSx0&index=74&pp=iAQB', 'https://www.youtube.com/watch?v=Nf-EJN40Igg&list=PLXwku06I04tLbhEZmTm2cUud5QWxBOSx0&index=75&pp=iAQB', 'https://www.youtube.com/watch?v=SmJN8mvJ7lg&list=PLXwku06I04tLbhEZmTm2cUud5QWxBOSx0&index=76&pp=iAQB', 'https://www.youtube.com/watch?v=TPsMhQJ4Xvg&list=PLXwku06I04tLbhEZmTm2cUud5QWxBOSx0&index=77&pp=iAQB', 'https://www.youtube.com/watch?v=VV8UUGOECd8&list=PLXwku06I04tLbhEZmTm2cUud5QWxBOSx0&index=78&pp=iAQB', 'https://www.youtube.com/watch?v=YO6Bh77UY0s&list=PLXwku06I04tLbhEZmTm2cUud5QWxBOSx0&index=79&pp=iAQB', 'https://www.youtube.com/watch?v=bzsHckXkAqc&list=PLXwku06I04tLbhEZmTm2cUud5QWxBOSx0&index=80&pp=iAQB', 'https://www.youtube.com/watch?v=eTejMpoXLX4&list=PLXwku06I04tLbhEZmTm2cUud5QWxBOSx0&index=81&pp=iAQB', 'https://www.youtube.com/watch?v=forntt6BBGs&list=PLXwku06I04tLbhEZmTm2cUud5QWxBOSx0&index=82&pp=iAQB', 'https://www.youtube.com/watch?v=kRGSf_sLLVY&list=PLXwku06I04tLbhEZmTm2cUud5QWxBOSx0&index=83&pp=iAQB', 'https://www.youtube.com/watch?v=knM0zBEmHao&list=PLXwku06I04tLbhEZmTm2cUud5QWxBOSx0&index=84&pp=iAQB', 'https://www.youtube.com/watch?v=kt3tne3FJ8w&list=PLXwku06I04tLbhEZmTm2cUud5QWxBOSx0&index=85&pp=iAQB', 'https://www.youtube.com/watch?v=m_2pTxCRmds&list=PLXwku06I04tLbhEZmTm2cUud5QWxBOSx0&index=86&pp=iAQB', 'https://www.youtube.com/watch?v=mofL-V-Yexc&list=PLXwku06I04tLbhEZmTm2cUud5QWxBOSx0&index=87&pp=iAQB', 'https://www.youtube.com/watch?v=n-sAv-Fo1FE&list=PLXwku06I04tLbhEZmTm2cUud5QWxBOSx0&index=88&pp=iAQB', 'https://www.youtube.com/watch?v=vFL28R7mWas&list=PLXwku06I04tLbhEZmTm2cUud5QWxBOSx0&index=89&pp=iAQB', 'https://www.youtube.com/watch?v=0H14u9XQ6l0&list=PLXwku06I04tLbhEZmTm2cUud5QWxBOSx0&index=90&pp=iAQB', 'https://www.youtube.com/watch?v=3n54wejwN5s&list=PLXwku06I04tLbhEZmTm2cUud5QWxBOSx0&index=91&pp=iAQB', 'https://www.youtube.com/watch?v=6FhmimB5nfc&list=PLXwku06I04tLbhEZmTm2cUud5QWxBOSx0&index=92&pp=iAQB', 'https://www.youtube.com/watch?v=6Sy9ZDejCYA&list=PLXwku06I04tLbhEZmTm2cUud5QWxBOSx0&index=93&pp=iAQB', 'https://www.youtube.com/watch?v=9toTf5j-wBI&list=PLXwku06I04tLbhEZmTm2cUud5QWxBOSx0&index=94&pp=iAQB', 'https://www.youtube.com/watch?v=AwmCxm3JOgw&list=PLXwku06I04tLbhEZmTm2cUud5QWxBOSx0&index=95&pp=iAQB', 'https://www.youtube.com/watch?v=BGBi21qMFMk&list=PLXwku06I04tLbhEZmTm2cUud5QWxBOSx0&index=96&pp=iAQB', 'https://www.youtube.com/watch?v=C0S4gJyikIE&list=PLXwku06I04tLbhEZmTm2cUud5QWxBOSx0&index=97&pp=iAQB', 'https://www.youtube.com/watch?v=CEsk8mvVF70&list=PLXwku06I04tLbhEZmTm2cUud5QWxBOSx0&index=98&pp=iAQB', 'https://www.youtube.com/watch?v=EWNn5bq71zM&list=PLXwku06I04tLbhEZmTm2cUud5QWxBOSx0&index=99&pp=iAQB', 'https://www.youtube.com/watch?v=IWtdd1e5TjE&list=PLXwku06I04tLbhEZmTm2cUud5QWxBOSx0&index=100&pp=iAQB', 'https://www.youtube.com/watch?v=KuKatZSgssk&list=PLXwku06I04tLbhEZmTm2cUud5QWxBOSx0&index=101&pp=iAQB', 'https://www.youtube.com/watch?v=LkL5zQ2rH_k&list=PLXwku06I04tLbhEZmTm2cUud5QWxBOSx0&index=102&pp=iAQB', 'https://www.youtube.com/watch?v=NGgXCA4Lwno&list=PLXwku06I04tLbhEZmTm2cUud5QWxBOSx0&index=103&pp=iAQB', 'https://www.youtube.com/watch?v=NpAh1apcCu8&list=PLXwku06I04tLbhEZmTm2cUud5QWxBOSx0&index=104&pp=iAQB', 'https://www.youtube.com/watch?v=PD3c2QSF590&list=PLXwku06I04tLbhEZmTm2cUud5QWxBOSx0&index=105&pp=iAQB', 'https://www.youtube.com/watch?v=Q8PthmpCYwk&list=PLXwku06I04tLbhEZmTm2cUud5QWxBOSx0&index=106&pp=iAQB', 'https://www.youtube.com/watch?v=QcxYLxdcTbw&list=PLXwku06I04tLbhEZmTm2cUud5QWxBOSx0&index=107&pp=iAQB', 'https://www.youtube.com/watch?v=T1jgPdQRAX8&list=PLXwku06I04tLbhEZmTm2cUud5QWxBOSx0&index=108&pp=iAQB', 'https://www.youtube.com/watch?v=ZDVML5gRwyc&list=PLXwku06I04tLbhEZmTm2cUud5QWxBOSx0&index=109&pp=iAQB', 'https://www.youtube.com/watch?v=arl0M-CFz9w&list=PLXwku06I04tLbhEZmTm2cUud5QWxBOSx0&index=110&pp=iAQB', 'https://www.youtube.com/watch?v=d0ety8C02do&list=PLXwku06I04tLbhEZmTm2cUud5QWxBOSx0&index=111&pp=iAQB', 'https://www.youtube.com/watch?v=ggKltYy2xGc&list=PLXwku06I04tLbhEZmTm2cUud5QWxBOSx0&index=112&pp=iAQB', 'https://www.youtube.com/watch?v=ijvbYkcswas&list=PLXwku06I04tLbhEZmTm2cUud5QWxBOSx0&index=113&pp=iAQB', 'https://www.youtube.com/watch?v=l8t9-EaeyhY&list=PLXwku06I04tLbhEZmTm2cUud5QWxBOSx0&index=114&pp=iAQB', 'https://www.youtube.com/watch?v=mJWz4T3zRHE&list=PLXwku06I04tLbhEZmTm2cUud5QWxBOSx0&index=115&pp=iAQB', 'https://www.youtube.com/watch?v=o_16bdBOGGM&list=PLXwku06I04tLbhEZmTm2cUud5QWxBOSx0&index=116&pp=iAQB', 'https://www.youtube.com/watch?v=tViDJvs7Gqc&list=PLXwku06I04tLbhEZmTm2cUud5QWxBOSx0&index=117&pp=iAQB', 'https://www.youtube.com/watch?v=uny3-hNza88&list=PLXwku06I04tLbhEZmTm2cUud5QWxBOSx0&index=118&pp=iAQB', 'https://www.youtube.com/watch?v=x5vTPi9byzA&list=PLXwku06I04tLbhEZmTm2cUud5QWxBOSx0&index=119&pp=iAQB', 'https://www.youtube.com/watch?v=28CNrl0HPcE&list=PLXwku06I04tLbhEZmTm2cUud5QWxBOSx0&index=120&pp=iAQB', 'https://www.youtube.com/watch?v=2Bb9cfVkLtQ&list=PLXwku06I04tLbhEZmTm2cUud5QWxBOSx0&index=121&pp=iAQB', 'https://www.youtube.com/watch?v=8ROVg3mszls&list=PLXwku06I04tLbhEZmTm2cUud5QWxBOSx0&index=122&pp=iAQB', 'https://www.youtube.com/watch?v=BRdEpVKGMbQ&list=PLXwku06I04tLbhEZmTm2cUud5QWxBOSx0&index=123&pp=iAQB', 'https://www.youtube.com/watch?v=HIzcmUkAkxY&list=PLXwku06I04tLbhEZmTm2cUud5QWxBOSx0&index=124&pp=iAQB', 'https://www.youtube.com/watch?v=HfgBRmTaNV8&list=PLXwku06I04tLbhEZmTm2cUud5QWxBOSx0&index=125&pp=iAQB', 'https://www.youtube.com/watch?v=JfLxTKD4ztM&list=PLXwku06I04tLbhEZmTm2cUud5QWxBOSx0&index=126&pp=iAQB', 'https://www.youtube.com/watch?v=KgTfNf88rAA&list=PLXwku06I04tLbhEZmTm2cUud5QWxBOSx0&index=127&pp=iAQB', 'https://www.youtube.com/watch?v=Nc8aIs-NbsE&list=PLXwku06I04tLbhEZmTm2cUud5QWxBOSx0&index=128&pp=iAQB', 'https://www.youtube.com/watch?v=TUBfuZQahoY&list=PLXwku06I04tLbhEZmTm2cUud5QWxBOSx0&index=129&pp=iAQB', 'https://www.youtube.com/watch?v=TlZyGZYHHwk&list=PLXwku06I04tLbhEZmTm2cUud5QWxBOSx0&index=130&pp=iAQB', 'https://www.youtube.com/watch?v=UCZv3B15m6I&list=PLXwku06I04tLbhEZmTm2cUud5QWxBOSx0&index=131&pp=iAQB', 'https://www.youtube.com/watch?v=V506dEBn0Xk&list=PLXwku06I04tLbhEZmTm2cUud5QWxBOSx0&index=132&pp=iAQB', 'https://www.youtube.com/watch?v=_gK_QDRuFYg&list=PLXwku06I04tLbhEZmTm2cUud5QWxBOSx0&index=133&pp=iAQB', 'https://www.youtube.com/watch?v=_sEIIEdBsts&list=PLXwku06I04tLbhEZmTm2cUud5QWxBOSx0&index=134&pp=iAQB', 'https://www.youtube.com/watch?v=daOXVH-C8WA&list=PLXwku06I04tLbhEZmTm2cUud5QWxBOSx0&index=135&pp=iAQB', 'https://www.youtube.com/watch?v=fUS6-_pbfmQ&list=PLXwku06I04tLbhEZmTm2cUud5QWxBOSx0&index=136&pp=iAQB', 'https://www.youtube.com/watch?v=fkUCwuEOWHg&list=PLXwku06I04tLbhEZmTm2cUud5QWxBOSx0&index=137&pp=iAQB', 'https://www.youtube.com/watch?v=k76yyzeOV0s&list=PLXwku06I04tLbhEZmTm2cUud5QWxBOSx0&index=138&pp=iAQB', 'https://www.youtube.com/watch?v=lAzGYU42qQM&list=PLXwku06I04tLbhEZmTm2cUud5QWxBOSx0&index=139&pp=iAQB', 'https://www.youtube.com/watch?v=mQmApGdoWaw&list=PLXwku06I04tLbhEZmTm2cUud5QWxBOSx0&index=140&pp=iAQB', 'https://www.youtube.com/watch?v=q-7uUmLRWO4&list=PLXwku06I04tLbhEZmTm2cUud5QWxBOSx0&index=141&pp=iAQB', 'https://www.youtube.com/watch?v=q50Mu98qZRM&list=PLXwku06I04tLbhEZmTm2cUud5QWxBOSx0&index=142&pp=iAQB', 'https://www.youtube.com/watch?v=uswT97qF5ps&list=PLXwku06I04tLbhEZmTm2cUud5QWxBOSx0&index=143&pp=iAQB', 'https://www.youtube.com/watch?v=vPyVpGWr-Mc&list=PLXwku06I04tLbhEZmTm2cUud5QWxBOSx0&index=144&pp=iAQB', 'https://www.youtube.com/watch?v=w5l5GBZ4sTs&list=PLXwku06I04tLbhEZmTm2cUud5QWxBOSx0&index=145&pp=iAQB', 'https://www.youtube.com/watch?v=whcQfQ5gaAY&list=PLXwku06I04tLbhEZmTm2cUud5QWxBOSx0&index=146&pp=iAQB', 'https://www.youtube.com/watch?v=wjdSGYLuGFU&list=PLXwku06I04tLbhEZmTm2cUud5QWxBOSx0&index=147&pp=iAQB', 'https://www.youtube.com/watch?v=zRPJhl4rZug&list=PLXwku06I04tLbhEZmTm2cUud5QWxBOSx0&index=148&pp=iAQB', 'https://www.youtube.com/watch?v=2ZOaB1v1-gI&list=PLXwku06I04tLbhEZmTm2cUud5QWxBOSx0&index=149&pp=iAQB', 'https://www.youtube.com/watch?v=2boVjxUX7cc&list=PLXwku06I04tLbhEZmTm2cUud5QWxBOSx0&index=150&pp=iAQB', 'https://www.youtube.com/watch?v=73ZkXPmDxV4&list=PLXwku06I04tLbhEZmTm2cUud5QWxBOSx0&index=151&pp=iAQB', 'https://www.youtube.com/watch?v=88eNDNTNQhw&list=PLXwku06I04tLbhEZmTm2cUud5QWxBOSx0&index=152&pp=iAQB', 'https://www.youtube.com/watch?v=BigLaG3M1BM&list=PLXwku06I04tLbhEZmTm2cUud5QWxBOSx0&index=153&pp=iAQB', 'https://www.youtube.com/watch?v=E_i92Ll5b6c&list=PLXwku06I04tLbhEZmTm2cUud5QWxBOSx0&index=154&pp=iAQB', 'https://www.youtube.com/watch?v=JObdH9DwHLU&list=PLXwku06I04tLbhEZmTm2cUud5QWxBOSx0&index=155&pp=iAQB', 'https://www.youtube.com/watch?v=M2jJSaONNfI&list=PLXwku06I04tLbhEZmTm2cUud5QWxBOSx0&index=156&pp=iAQB', 'https://www.youtube.com/watch?v=MTocadzqBKc&list=PLXwku06I04tLbhEZmTm2cUud5QWxBOSx0&index=157&pp=iAQB', 'https://www.youtube.com/watch?v=Mq1GYl2ez-I&list=PLXwku06I04tLbhEZmTm2cUud5QWxBOSx0&index=158&pp=iAQB', 'https://www.youtube.com/watch?v=NOAfzqn9S9k&list=PLXwku06I04tLbhEZmTm2cUud5QWxBOSx0&index=159&pp=iAQB', 'https://www.youtube.com/watch?v=REOzu5BwxZ8&list=PLXwku06I04tLbhEZmTm2cUud5QWxBOSx0&index=160&pp=iAQB', 'https://www.youtube.com/watch?v=Rf_BO5COQ1I&list=PLXwku06I04tLbhEZmTm2cUud5QWxBOSx0&index=161&pp=iAQB', 'https://www.youtube.com/watch?v=TsPPc-Y8viQ&list=PLXwku06I04tLbhEZmTm2cUud5QWxBOSx0&index=162&pp=iAQB', 'https://www.youtube.com/watch?v=VbxA3D-RKZc&list=PLXwku06I04tLbhEZmTm2cUud5QWxBOSx0&index=163&pp=iAQB', 'https://www.youtube.com/watch?v=c-TIz_SAvq8&list=PLXwku06I04tLbhEZmTm2cUud5QWxBOSx0&index=164&pp=iAQB', 'https://www.youtube.com/watch?v=dKnQ04oMWYM&list=PLXwku06I04tLbhEZmTm2cUud5QWxBOSx0&index=165&pp=iAQB', 'https://www.youtube.com/watch?v=ecXQffEYuWA&list=PLXwku06I04tLbhEZmTm2cUud5QWxBOSx0&index=166&pp=iAQB', 'https://www.youtube.com/watch?v=hG7IEtapOJc&list=PLXwku06I04tLbhEZmTm2cUud5QWxBOSx0&index=167&pp=iAQB', 'https://www.youtube.com/watch?v=vrsk5RLCEdI&list=PLXwku06I04tLbhEZmTm2cUud5QWxBOSx0&index=168&pp=iAQB', 'https://www.youtube.com/watch?v=xcOMP3tALR8&list=PLXwku06I04tLbhEZmTm2cUud5QWxBOSx0&index=169&pp=iAQB', 'https://www.youtube.com/watch?v=yHUlONJgJ9k&list=PLXwku06I04tLbhEZmTm2cUud5QWxBOSx0&index=170&pp=iAQB', 'https://www.youtube.com/watch?v=3ukq_NXJZiU&list=PLXwku06I04tLbhEZmTm2cUud5QWxBOSx0&index=171&pp=iAQB', 'https://www.youtube.com/watch?v=6-D67ElMk_E&list=PLXwku06I04tLbhEZmTm2cUud5QWxBOSx0&index=172&pp=iAQB', 'https://www.youtube.com/watch?v=BIjErQIBYFQ&list=PLXwku06I04tLbhEZmTm2cUud5QWxBOSx0&index=173&pp=iAQB', 'https://www.youtube.com/watch?v=Q7_VP9Vo5pE&list=PLXwku06I04tLbhEZmTm2cUud5QWxBOSx0&index=174&pp=iAQB', 'https://www.youtube.com/watch?v=U8knnOAAg4g&list=PLXwku06I04tLbhEZmTm2cUud5QWxBOSx0&index=175&pp=iAQB', 'https://www.youtube.com/watch?v=bC-d6imthjM&list=PLXwku06I04tLbhEZmTm2cUud5QWxBOSx0&index=176&pp=iAQB', 'https://www.youtube.com/watch?v=ccoJTSauKFw&list=PLXwku06I04tLbhEZmTm2cUud5QWxBOSx0&index=177&pp=iAQB', 'https://www.youtube.com/watch?v=fbFjFz4dJi4&list=PLXwku06I04tLbhEZmTm2cUud5QWxBOSx0&index=178&pp=iAQB', 'https://www.youtube.com/watch?v=wgVijXatxcU&list=PLXwku06I04tLbhEZmTm2cUud5QWxBOSx0&index=179&pp=iAQB', 'https://www.youtube.com/watch?v=3D9HPLXOxYU&list=PLXwku06I04tLbhEZmTm2cUud5QWxBOSx0&index=180&pp=iAQB', 'https://www.youtube.com/watch?v=blyHztAu5lI&list=PLXwku06I04tLbhEZmTm2cUud5QWxBOSx0&index=181&pp=iAQB']\n",
      "181\n"
     ]
    }
   ],
   "source": [
    "tab_a = driver.find_elements(By.CLASS_NAME, 'ytd-playlist-panel-video-renderer')\n",
    "\n",
    "tab_link = []\n",
    "for link in tab_a:\n",
    "    tab_link.append(link.get_attribute('href'))\n",
    "\n",
    "t = [l for l in tab_link if l != None]\n",
    "print(t)\n",
    "print(len(t))"
   ]
  },
  {
   "cell_type": "markdown",
   "id": "376ef01e",
   "metadata": {},
   "source": [
    "#### 3.4. On récupère les titres, nb de vues et de like, et on enregistre dans un Dataframe"
   ]
  },
  {
   "cell_type": "code",
   "execution_count": 7,
   "id": "23452bc3",
   "metadata": {},
   "outputs": [],
   "source": [
    "df = pd.DataFrame({'title': [], 'Views': [], 'Likes': []})\n",
    "for l in t:\n",
    "    driver.get(l)\n",
    "    time.sleep(2)\n",
    "    title = driver.find_element(By.XPATH, '//*[@id=\"title\"]/h1/yt-formatted-string').text\n",
    "    nb_like = views_to_int(driver.find_element(By.XPATH, '//*[@id=\"top-level-buttons-computed\"]/segmented-like-dislike-button-view-model/yt-smartimation/div/div/like-button-view-model/toggle-button-view-model/button-view-model/button/div[2]').text)\n",
    "    nb_views = views_to_int(driver.find_element(By.XPATH, '//*[@id=\"info\"]/span[1]').text)\n",
    "\n",
    "    df.loc[len(df)] = [title, nb_views, nb_like]"
   ]
  },
  {
   "cell_type": "markdown",
   "id": "7f136c9b",
   "metadata": {},
   "source": [
    "### 4. On analyse nos données avec pandas"
   ]
  },
  {
   "cell_type": "markdown",
   "id": "6377d844",
   "metadata": {},
   "source": [
    "#### 4.1. On affiche les 10 premières lignes pour vérifier grossièrment s'il les données sont bien enregistrées"
   ]
  },
  {
   "cell_type": "code",
   "execution_count": 8,
   "id": "2c217f54",
   "metadata": {},
   "outputs": [
    {
     "data": {
      "text/html": [
       "<div>\n",
       "<style scoped>\n",
       "    .dataframe tbody tr th:only-of-type {\n",
       "        vertical-align: middle;\n",
       "    }\n",
       "\n",
       "    .dataframe tbody tr th {\n",
       "        vertical-align: top;\n",
       "    }\n",
       "\n",
       "    .dataframe thead th {\n",
       "        text-align: right;\n",
       "    }\n",
       "</style>\n",
       "<table border=\"1\" class=\"dataframe\">\n",
       "  <thead>\n",
       "    <tr style=\"text-align: right;\">\n",
       "      <th></th>\n",
       "      <th>title</th>\n",
       "      <th>Views</th>\n",
       "      <th>Likes</th>\n",
       "    </tr>\n",
       "  </thead>\n",
       "  <tbody>\n",
       "    <tr>\n",
       "      <th>0</th>\n",
       "      <td>SKANERS (Île-de-France)_ Stéphane Monnel</td>\n",
       "      <td>690</td>\n",
       "      <td>6</td>\n",
       "    </tr>\n",
       "    <tr>\n",
       "      <th>1</th>\n",
       "      <td>Siage (Pays de La Loire)_ Hugo Marquet</td>\n",
       "      <td>510</td>\n",
       "      <td>59</td>\n",
       "    </tr>\n",
       "    <tr>\n",
       "      <th>2</th>\n",
       "      <td>YESHY (Île-de-France)_Minas Kedin</td>\n",
       "      <td>275</td>\n",
       "      <td>4</td>\n",
       "    </tr>\n",
       "    <tr>\n",
       "      <th>3</th>\n",
       "      <td>WASTINA (Normandie)_Précieux Loukoutode</td>\n",
       "      <td>1300</td>\n",
       "      <td>496</td>\n",
       "    </tr>\n",
       "    <tr>\n",
       "      <th>4</th>\n",
       "      <td>Stellaire Design (Pays de la Loire)_ Estella R...</td>\n",
       "      <td>484</td>\n",
       "      <td>85</td>\n",
       "    </tr>\n",
       "    <tr>\n",
       "      <th>5</th>\n",
       "      <td>Sardorial Wardrobe (Normandie)_ Dorian Monaco</td>\n",
       "      <td>616</td>\n",
       "      <td>186</td>\n",
       "    </tr>\n",
       "    <tr>\n",
       "      <th>6</th>\n",
       "      <td>OL DOG STORE (Sud)_Louise Dudoignon</td>\n",
       "      <td>2700</td>\n",
       "      <td>527</td>\n",
       "    </tr>\n",
       "    <tr>\n",
       "      <th>7</th>\n",
       "      <td>Spring Fest (Grand Est)_ Clément Lambert</td>\n",
       "      <td>213</td>\n",
       "      <td>3</td>\n",
       "    </tr>\n",
       "    <tr>\n",
       "      <th>8</th>\n",
       "      <td>Wecaps (Hauts-de-France)_Adrien Bauw</td>\n",
       "      <td>456</td>\n",
       "      <td>60</td>\n",
       "    </tr>\n",
       "    <tr>\n",
       "      <th>9</th>\n",
       "      <td>Solis (Auvergne-Rhône-Alpes)_ Soltane Lhadi</td>\n",
       "      <td>206</td>\n",
       "      <td>24</td>\n",
       "    </tr>\n",
       "  </tbody>\n",
       "</table>\n",
       "</div>"
      ],
      "text/plain": [
       "                                               title  Views  Likes\n",
       "0           SKANERS (Île-de-France)_ Stéphane Monnel    690      6\n",
       "1             Siage (Pays de La Loire)_ Hugo Marquet    510     59\n",
       "2                  YESHY (Île-de-France)_Minas Kedin    275      4\n",
       "3            WASTINA (Normandie)_Précieux Loukoutode   1300    496\n",
       "4  Stellaire Design (Pays de la Loire)_ Estella R...    484     85\n",
       "5      Sardorial Wardrobe (Normandie)_ Dorian Monaco    616    186\n",
       "6                OL DOG STORE (Sud)_Louise Dudoignon   2700    527\n",
       "7           Spring Fest (Grand Est)_ Clément Lambert    213      3\n",
       "8               Wecaps (Hauts-de-France)_Adrien Bauw    456     60\n",
       "9        Solis (Auvergne-Rhône-Alpes)_ Soltane Lhadi    206     24"
      ]
     },
     "execution_count": 8,
     "metadata": {},
     "output_type": "execute_result"
    }
   ],
   "source": [
    "df.head(10)"
   ]
  },
  {
   "cell_type": "markdown",
   "id": "e4bcaff0",
   "metadata": {},
   "source": [
    "#### 4.2. On affiche les informations de notre Dataframe\n",
    "*On vérifie les nb de lignes et colonnes, les types de colonnes, etc.*"
   ]
  },
  {
   "cell_type": "code",
   "execution_count": 9,
   "id": "75de0810",
   "metadata": {},
   "outputs": [
    {
     "name": "stdout",
     "output_type": "stream",
     "text": [
      "<class 'pandas.core.frame.DataFrame'>\n",
      "Index: 181 entries, 0 to 180\n",
      "Data columns (total 3 columns):\n",
      " #   Column  Non-Null Count  Dtype \n",
      "---  ------  --------------  ----- \n",
      " 0   title   181 non-null    object\n",
      " 1   Views   181 non-null    int64 \n",
      " 2   Likes   181 non-null    int64 \n",
      "dtypes: int64(2), object(1)\n",
      "memory usage: 5.7+ KB\n"
     ]
    }
   ],
   "source": [
    "df.info()"
   ]
  },
  {
   "cell_type": "markdown",
   "id": "c849d243",
   "metadata": {},
   "source": [
    "#### 4.3. On affiche une description générales des données"
   ]
  },
  {
   "cell_type": "markdown",
   "id": "b4f93aaf",
   "metadata": {},
   "source": [
    "**Interprétation :** \n",
    "- **Nb de vidéos :** 181\n",
    "- **Nb moyen de vues :** 612 vues\n",
    "- **Nb moyen de likes :** 125 likes\n",
    "- **Nb min de vues :** 86 vues\n",
    "- **Nb max de vues :** 3 800 vues (approximatif)\n",
    "- **Nb min de likes :** 0 like\n",
    "- **Nb max de likes :** 1 000 likes (approximatif)"
   ]
  },
  {
   "cell_type": "code",
   "execution_count": 10,
   "id": "a97698fd",
   "metadata": {},
   "outputs": [
    {
     "data": {
      "text/html": [
       "<div>\n",
       "<style scoped>\n",
       "    .dataframe tbody tr th:only-of-type {\n",
       "        vertical-align: middle;\n",
       "    }\n",
       "\n",
       "    .dataframe tbody tr th {\n",
       "        vertical-align: top;\n",
       "    }\n",
       "\n",
       "    .dataframe thead th {\n",
       "        text-align: right;\n",
       "    }\n",
       "</style>\n",
       "<table border=\"1\" class=\"dataframe\">\n",
       "  <thead>\n",
       "    <tr style=\"text-align: right;\">\n",
       "      <th></th>\n",
       "      <th>title</th>\n",
       "      <th>Views</th>\n",
       "      <th>Likes</th>\n",
       "    </tr>\n",
       "  </thead>\n",
       "  <tbody>\n",
       "    <tr>\n",
       "      <th>count</th>\n",
       "      <td>181</td>\n",
       "      <td>181.000000</td>\n",
       "      <td>181.000000</td>\n",
       "    </tr>\n",
       "    <tr>\n",
       "      <th>unique</th>\n",
       "      <td>181</td>\n",
       "      <td>NaN</td>\n",
       "      <td>NaN</td>\n",
       "    </tr>\n",
       "    <tr>\n",
       "      <th>top</th>\n",
       "      <td>SKANERS (Île-de-France)_ Stéphane Monnel</td>\n",
       "      <td>NaN</td>\n",
       "      <td>NaN</td>\n",
       "    </tr>\n",
       "    <tr>\n",
       "      <th>freq</th>\n",
       "      <td>1</td>\n",
       "      <td>NaN</td>\n",
       "      <td>NaN</td>\n",
       "    </tr>\n",
       "    <tr>\n",
       "      <th>mean</th>\n",
       "      <td>NaN</td>\n",
       "      <td>612.204420</td>\n",
       "      <td>125.270718</td>\n",
       "    </tr>\n",
       "    <tr>\n",
       "      <th>std</th>\n",
       "      <td>NaN</td>\n",
       "      <td>689.193762</td>\n",
       "      <td>204.667152</td>\n",
       "    </tr>\n",
       "    <tr>\n",
       "      <th>min</th>\n",
       "      <td>NaN</td>\n",
       "      <td>86.000000</td>\n",
       "      <td>0.000000</td>\n",
       "    </tr>\n",
       "    <tr>\n",
       "      <th>25%</th>\n",
       "      <td>NaN</td>\n",
       "      <td>133.000000</td>\n",
       "      <td>4.000000</td>\n",
       "    </tr>\n",
       "    <tr>\n",
       "      <th>50%</th>\n",
       "      <td>NaN</td>\n",
       "      <td>340.000000</td>\n",
       "      <td>41.000000</td>\n",
       "    </tr>\n",
       "    <tr>\n",
       "      <th>75%</th>\n",
       "      <td>NaN</td>\n",
       "      <td>841.000000</td>\n",
       "      <td>142.000000</td>\n",
       "    </tr>\n",
       "    <tr>\n",
       "      <th>max</th>\n",
       "      <td>NaN</td>\n",
       "      <td>3800.000000</td>\n",
       "      <td>1000.000000</td>\n",
       "    </tr>\n",
       "  </tbody>\n",
       "</table>\n",
       "</div>"
      ],
      "text/plain": [
       "                                           title        Views        Likes\n",
       "count                                        181   181.000000   181.000000\n",
       "unique                                       181          NaN          NaN\n",
       "top     SKANERS (Île-de-France)_ Stéphane Monnel          NaN          NaN\n",
       "freq                                           1          NaN          NaN\n",
       "mean                                         NaN   612.204420   125.270718\n",
       "std                                          NaN   689.193762   204.667152\n",
       "min                                          NaN    86.000000     0.000000\n",
       "25%                                          NaN   133.000000     4.000000\n",
       "50%                                          NaN   340.000000    41.000000\n",
       "75%                                          NaN   841.000000   142.000000\n",
       "max                                          NaN  3800.000000  1000.000000"
      ]
     },
     "execution_count": 10,
     "metadata": {},
     "output_type": "execute_result"
    }
   ],
   "source": [
    "df.describe(include='all')"
   ]
  },
  {
   "cell_type": "markdown",
   "id": "66f06b17",
   "metadata": {},
   "source": [
    "#### 4.4. On crée un Top 15 des vidéos les plus likés"
   ]
  },
  {
   "cell_type": "code",
   "execution_count": 25,
   "id": "2b0fa486",
   "metadata": {
    "scrolled": true
   },
   "outputs": [
    {
     "data": {
      "text/html": [
       "<div>\n",
       "<style scoped>\n",
       "    .dataframe tbody tr th:only-of-type {\n",
       "        vertical-align: middle;\n",
       "    }\n",
       "\n",
       "    .dataframe tbody tr th {\n",
       "        vertical-align: top;\n",
       "    }\n",
       "\n",
       "    .dataframe thead th {\n",
       "        text-align: right;\n",
       "    }\n",
       "</style>\n",
       "<table border=\"1\" class=\"dataframe\">\n",
       "  <thead>\n",
       "    <tr style=\"text-align: right;\">\n",
       "      <th></th>\n",
       "      <th>title</th>\n",
       "      <th>Views</th>\n",
       "      <th>Likes</th>\n",
       "    </tr>\n",
       "  </thead>\n",
       "  <tbody>\n",
       "    <tr>\n",
       "      <th>132</th>\n",
       "      <td>Collecte D'urine By L (Bretagne)_ Louison Jannee</td>\n",
       "      <td>3800</td>\n",
       "      <td>1000</td>\n",
       "    </tr>\n",
       "    <tr>\n",
       "      <th>41</th>\n",
       "      <td>Pensezy (Bretagne)_Léo Saillenfest</td>\n",
       "      <td>2900</td>\n",
       "      <td>946</td>\n",
       "    </tr>\n",
       "    <tr>\n",
       "      <th>97</th>\n",
       "      <td>Hairshine (Occitanie)_Falah Nour</td>\n",
       "      <td>1800</td>\n",
       "      <td>797</td>\n",
       "    </tr>\n",
       "    <tr>\n",
       "      <th>149</th>\n",
       "      <td>Alguera (Centre-Val de Loire)_Orphé Vezier</td>\n",
       "      <td>1800</td>\n",
       "      <td>759</td>\n",
       "    </tr>\n",
       "    <tr>\n",
       "      <th>93</th>\n",
       "      <td>Hypocaps (Nouvelle-Aquitaine)_Maë Legardeur</td>\n",
       "      <td>2400</td>\n",
       "      <td>736</td>\n",
       "    </tr>\n",
       "    <tr>\n",
       "      <th>79</th>\n",
       "      <td>Myloot (Île-de-France)_ Robin Thomas</td>\n",
       "      <td>1400</td>\n",
       "      <td>724</td>\n",
       "    </tr>\n",
       "    <tr>\n",
       "      <th>86</th>\n",
       "      <td>MonBisouEcolo (Île-De-France)_ Elsie Ahouandjinou</td>\n",
       "      <td>856</td>\n",
       "      <td>698</td>\n",
       "    </tr>\n",
       "    <tr>\n",
       "      <th>138</th>\n",
       "      <td>Equipier (Bretagne)_Camille Roger</td>\n",
       "      <td>3100</td>\n",
       "      <td>689</td>\n",
       "    </tr>\n",
       "    <tr>\n",
       "      <th>36</th>\n",
       "      <td>Pupil (Hauts-de-France)_Augustin Bellet</td>\n",
       "      <td>2300</td>\n",
       "      <td>642</td>\n",
       "    </tr>\n",
       "    <tr>\n",
       "      <th>49</th>\n",
       "      <td>Pictalis (Île-de-France)_Matys Gutierrez y Diez</td>\n",
       "      <td>1700</td>\n",
       "      <td>619</td>\n",
       "    </tr>\n",
       "    <tr>\n",
       "      <th>146</th>\n",
       "      <td>Booklink (Auvergne-Rhône-Alpes)_Angelique Carreno</td>\n",
       "      <td>1800</td>\n",
       "      <td>601</td>\n",
       "    </tr>\n",
       "    <tr>\n",
       "      <th>100</th>\n",
       "      <td>Histoires de récup (Île-de-France)_Jade Thiebaut</td>\n",
       "      <td>2100</td>\n",
       "      <td>594</td>\n",
       "    </tr>\n",
       "    <tr>\n",
       "      <th>59</th>\n",
       "      <td>Oenoco (Grand Est)_Laura Stelz</td>\n",
       "      <td>2700</td>\n",
       "      <td>590</td>\n",
       "    </tr>\n",
       "    <tr>\n",
       "      <th>129</th>\n",
       "      <td>ELYA (Île-deFrance)_BarrieSanusi</td>\n",
       "      <td>1800</td>\n",
       "      <td>590</td>\n",
       "    </tr>\n",
       "    <tr>\n",
       "      <th>160</th>\n",
       "      <td>Arakfit (Occitanie)_Allal Akram</td>\n",
       "      <td>2900</td>\n",
       "      <td>532</td>\n",
       "    </tr>\n",
       "  </tbody>\n",
       "</table>\n",
       "</div>"
      ],
      "text/plain": [
       "                                                 title  Views  Likes\n",
       "132   Collecte D'urine By L (Bretagne)_ Louison Jannee   3800   1000\n",
       "41                  Pensezy (Bretagne)_Léo Saillenfest   2900    946\n",
       "97                    Hairshine (Occitanie)_Falah Nour   1800    797\n",
       "149         Alguera (Centre-Val de Loire)_Orphé Vezier   1800    759\n",
       "93         Hypocaps (Nouvelle-Aquitaine)_Maë Legardeur   2400    736\n",
       "79                Myloot (Île-de-France)_ Robin Thomas   1400    724\n",
       "86   MonBisouEcolo (Île-De-France)_ Elsie Ahouandjinou    856    698\n",
       "138                  Equipier (Bretagne)_Camille Roger   3100    689\n",
       "36             Pupil (Hauts-de-France)_Augustin Bellet   2300    642\n",
       "49     Pictalis (Île-de-France)_Matys Gutierrez y Diez   1700    619\n",
       "146  Booklink (Auvergne-Rhône-Alpes)_Angelique Carreno   1800    601\n",
       "100   Histoires de récup (Île-de-France)_Jade Thiebaut   2100    594\n",
       "59                      Oenoco (Grand Est)_Laura Stelz   2700    590\n",
       "129                   ELYA (Île-deFrance)_BarrieSanusi   1800    590\n",
       "160                    Arakfit (Occitanie)_Allal Akram   2900    532"
      ]
     },
     "execution_count": 25,
     "metadata": {},
     "output_type": "execute_result"
    }
   ],
   "source": [
    "df.sort_values(by=['Likes', 'Views'], ascending=False).head(15)"
   ]
  },
  {
   "cell_type": "markdown",
   "id": "59154139",
   "metadata": {},
   "source": [
    "*Les données sont du 27/03/2024 - Analyse à but expérimentale*"
   ]
  }
 ],
 "metadata": {
  "kernelspec": {
   "display_name": "Python 3 (ipykernel)",
   "language": "python",
   "name": "python3"
  },
  "language_info": {
   "codemirror_mode": {
    "name": "ipython",
    "version": 3
   },
   "file_extension": ".py",
   "mimetype": "text/x-python",
   "name": "python",
   "nbconvert_exporter": "python",
   "pygments_lexer": "ipython3",
   "version": "3.11.2"
  }
 },
 "nbformat": 4,
 "nbformat_minor": 5
}
